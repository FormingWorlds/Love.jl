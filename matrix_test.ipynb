{
 "cells": [
  {
   "cell_type": "code",
   "execution_count": 1,
   "metadata": {},
   "outputs": [
    {
     "data": {
      "text/plain": [
       "Complex{Double64}"
      ]
     },
     "metadata": {},
     "output_type": "display_data"
    }
   ],
   "source": [
    "include(\"TidalLoveNumbersPorousK23.jl\")\n",
    "using .TidalLoveNumbers\n",
    "using DoubleFloats\n",
    "using PyPlot\n",
    "using Statistics\n",
    "using PyCall\n",
    "using BenchmarkTools\n",
    "using LinearAlgebra\n",
    "    \n",
    "@pyimport seaborn as sns\n",
    "@pyimport matplotlib as mpl\n",
    "@pyimport matplotlib.gridspec as gspec\n",
    "#\n",
    "PyPlot.isjulia_display[] = false;\n",
    "\n",
    "PyPlot.matplotlib[:rc](\"font\",family=\"Arial\", weight=\"medium\", style=\"normal\", size=12)\n",
    "PyPlot.matplotlib[:rc](\"axes\",titlesize=14.5, labelsize=12, unicode_minus=false)\n",
    "PyPlot.matplotlib[:rc](\"xtick\",labelsize=11.5)\n",
    "PyPlot.matplotlib[:rc](\"ytick\",labelsize=11.5)\n",
    "PyPlot.matplotlib[:rc](\"pdf\",fonttype=42)\n",
    "PyPlot.matplotlib[:rc](\"mathtext\", fontset = \"stix\")\n",
    "\n",
    "mpl.style.use(\"dark_background\")\n",
    "\n",
    "# Get precision of love number calculations\n",
    "prec = TidalLoveNumbers.prec;\n",
    "precc = TidalLoveNumbers.precc;"
   ]
  },
  {
   "cell_type": "code",
   "execution_count": 2,
   "metadata": {},
   "outputs": [],
   "source": [
    "non_dim = false\n",
    "\n",
    "G = prec(6.6743e-11)\n",
    "e = 0.0041\n",
    "\n",
    "h_core = 700.0 - 690.0\n",
    "h_mantle_low = 800. + 690\n",
    "h_mantle_up = 300. - 0.\n",
    "\n",
    "h_crust = 20.\n",
    "ω0 = 2*2.047e-5\n",
    "ω = ω0\n",
    "\n",
    "#enceladus test model:\n",
    "n = 2\n",
    "ρₛ = [3300, 3300, 3300, prec(3300)]\n",
    "r = [0, \n",
    "     h_core, \n",
    "     h_core+h_mantle_low, \n",
    "     h_core+h_mantle_low+h_mantle_up, \n",
    "     h_core+h_mantle_low+h_mantle_up+h_crust] .* 1e3\n",
    "μ = [60+0im, 60, 60, prec(60)] .* 1e9\n",
    "κ = [100e9, 100e9, 100e9, 100e9] .* 100000.0\n",
    "η = [1e25, 1e25, 1e25, 1e25]\n",
    "\n",
    "R = r[end]\n",
    "μ0 = μ[end]\n",
    "bp = 3\n",
    "tp = 3\n",
    "\n",
    "\n",
    "ρₗ = [0, 0, 3300, 0]\n",
    "# α  = [0, 0, 0.95, 0., 0]\n",
    "κₗ = [0, 0, 100e9, 0] .* 100000.0\n",
    "κd = 0.05κ\n",
    "k = [0, 0, 1e-7, 0]\n",
    "α = [0, 0, 0.95, 0]\n",
    "\n",
    "ηₗ = [0, 0, 100, 0]\n",
    "ϕ =  [0, 0, prec(0.1), 0]\n",
    "\n",
    "ρ = (1 .- ϕ) .* ρₛ + ϕ .* ρₗ # bulk density\n",
    "# ρ = ρₛ\n",
    "rr = expand_layers(r)\n",
    "g = get_g(rr, ρ);\n",
    "\n",
    "\n"
   ]
  },
  {
   "cell_type": "code",
   "execution_count": 4,
   "metadata": {},
   "outputs": [
    {
     "data": {
      "text/plain": [
       "5-element Vector{Float64}:\n",
       "     0.0\n",
       " 10000.0\n",
       "     1.5e6\n",
       "     1.8e6\n",
       "     1.82e6"
      ]
     },
     "metadata": {},
     "output_type": "display_data"
    }
   ],
   "source": [
    "r"
   ]
  },
  {
   "cell_type": "code",
   "execution_count": 3,
   "metadata": {},
   "outputs": [
    {
     "data": {
      "text/plain": [
       "0.026393378260297196 - 5.536820543185344e-9im"
      ]
     },
     "metadata": {},
     "output_type": "display_data"
    }
   ],
   "source": [
    "k = [0, 0, 1e-8, 0]\n",
    "y1 = ComplexF64.(calculate_y(rr, ρ, g, μ, κ, ω, ρₗ, κₗ, κd, α, ηₗ, ϕ, k));\n",
    "y1[:,end,end]\n",
    "y1[5,end,end]-1\n"
   ]
  },
  {
   "cell_type": "code",
   "execution_count": 54,
   "metadata": {},
   "outputs": [
    {
     "data": {
      "text/plain": [
       "4-element Vector{Complex{Double64}}:\n",
       " 2.98078393218724566364574572623529703e-13 - 7.80694696715166970142389270964626314e-21im\n",
       " 6.62598464237650076284373152326003475e-05 - 6.43865190711379923353184004067644069e-10im\n",
       " 3.33645525662176723650325458708266491e-03 - 1.11050552277519486823841694352343001e-09im\n",
       " 1.85430181241356342248624531942437694e+03 - 9.33482900692194290269950956407478348e+02im"
      ]
     },
     "metadata": {},
     "output_type": "display_data"
    }
   ],
   "source": [
    "y1 = ComplexF64.(calculate_y(rr, ρ, g, μ, κ, ω, ρₗ, κₗ,κd,α, ηₗ, ϕ, k));"
   ]
  },
  {
   "cell_type": "code",
   "execution_count": 25,
   "metadata": {},
   "outputs": [
    {
     "data": {
      "text/plain": [
       "4×4 Matrix{Complex{Double64}}:\n",
       "  -2.030246293939968e21 + 9.34048830098404e15im   …  -4.7320255230432086e-5 + 7.314400009724664e-6im\n",
       "   6.506549908054825e21 - 4.425538103314862e15im      3.0067094181605367e-5 + 2.673382933499176e-7im\n",
       " -2.0509798579888925e11 - 750912.8686811159im         3.836768918852538e-17 - 3.924497350526136e-15im\n",
       "   6.924358800440116e13 + 3.381290225392138e12im      -5.124826641070161e-9 + 1.396789282442257e-8im"
      ]
     },
     "metadata": {},
     "output_type": "display_data"
    }
   ],
   "source": [
    "P*D3*D2*(D1*Ic + Bp2) + P2*D2*(D1*Ic + Bp2)\n",
    "(P*D3 + P2)*D2*(D1*Ic + Bp2)"
   ]
  },
  {
   "cell_type": "code",
   "execution_count": 7,
   "metadata": {},
   "outputs": [
    {
     "data": {
      "text/plain": [
       "8×8 Matrix{Complex{Double64}}:\n",
       " -0.0001999520076787714 + 0.0im  …  0.0 + 0.0im  0.0 + 0.0im\n",
       "                -0.0001 + 0.0im     0.0 + 0.0im  0.0 + 0.0im\n",
       "      7198.836006115696 + 0.0im     0.0 + 0.0im  0.0 + 0.0im\n",
       "    -3599.4210476015523 + 0.0im     0.0 + 0.0im  0.0 + 0.0im\n",
       "  7.737913321182261e-12 + 0.0im     0.0 + 0.0im  0.0 + 0.0im\n",
       " 2.3213739963546786e-15 + 0.0im  …  0.0 + 0.0im  0.0 + 0.0im\n",
       "                    0.0 + 0.0im     0.0 + 0.0im  0.0 + 0.0im\n",
       "                    0.0 + 0.0im     0.0 + 0.0im  0.0 + 0.0im"
      ]
     },
     "metadata": {},
     "output_type": "display_data"
    },
    {
     "data": {
      "text/plain": [
       "8×8 Matrix{Complex{Double64}}:\n",
       " -0.00013359822339338844 + 0.0im  …  0.0 + 0.0im  0.0 + 0.0im\n",
       "   -6.681514476614699e-5 + 0.0im     0.0 + 0.0im  0.0 + 0.0im\n",
       "      3213.7433914212966 + 0.0im     0.0 + 0.0im  0.0 + 0.0im\n",
       "     -1606.8747402543524 + 0.0im     0.0 + 0.0im  0.0 + 0.0im\n",
       "  1.1581076937369453e-11 + 0.0im     0.0 + 0.0im  0.0 + 0.0im\n",
       "  2.3213739963546786e-15 + 0.0im  …  0.0 + 0.0im  0.0 + 0.0im\n",
       "                     0.0 + 0.0im     0.0 + 0.0im  0.0 + 0.0im\n",
       "                     0.0 + 0.0im     0.0 + 0.0im  0.0 + 0.0im"
      ]
     },
     "metadata": {},
     "output_type": "display_data"
    },
    {
     "data": {
      "text/plain": [
       "8×8 Matrix{Complex{Double64}}:\n",
       " -0.00010031037174520305 + 0.0im  …  0.0 + 0.0im  0.0 + 0.0im\n",
       "   -5.016722408026756e-5 + 0.0im     0.0 + 0.0im  0.0 + 0.0im\n",
       "      1811.7582063458992 + 0.0im     0.0 + 0.0im  0.0 + 0.0im\n",
       "      -905.8821477166539 + 0.0im     0.0 + 0.0im  0.0 + 0.0im\n",
       "   1.542424055355664e-11 + 0.0im     0.0 + 0.0im  0.0 + 0.0im\n",
       "  2.3213739963546786e-15 + 0.0im  …  0.0 + 0.0im  0.0 + 0.0im\n",
       "                     0.0 + 0.0im     0.0 + 0.0im  0.0 + 0.0im\n",
       "                     0.0 + 0.0im     0.0 + 0.0im  0.0 + 0.0im"
      ]
     },
     "metadata": {},
     "output_type": "display_data"
    }
   ],
   "source": [
    "Iφ = zeros(precc, 8, 8)\n",
    "\n",
    "for i in 1:6\n",
    "    Iφ[i,i] = 1\n",
    "end\n",
    "\n",
    "for i in 2:2\n",
    "    B = zeros(precc, 8, 8)\n",
    "    \n",
    "    Iφ[7,7] = ϕ[i] > 0 ? 1 : 0\n",
    "    Iφ[8,8] = ϕ[i] > 0 ? 1 : 0\n",
    "\n",
    "\n",
    "    r1 = rr[1,i]\n",
    "    for j in 1:3#nr-1\n",
    "        r2 = rr[j+1,i]\n",
    "        dr = r2 - r1\n",
    "        rhalf = r1 + 0.5dr\n",
    "\n",
    "        r2 = rr[j+1, i]\n",
    "        g1 = g[j, i]\n",
    "        g2 = g[j+1, i]\n",
    "\n",
    "        # if iszero(ϕ[i])  \n",
    "        #     B[1:6,1:6] .= get_B(r1, r2, g1, g2, ρ[i], μ[i], κ[i]) * (j==1 ? B1[1:6,1:6] : B[1:6,1:6])\n",
    "        # else\n",
    "        A = Iφ * get_A(r1, g1, ρ[i], μ[i], κ[i], ω, ρₗ[i], κₗ[i], κd[i], α[i], ηₗ[i], ϕ[i], k[i]) * Iφ\n",
    "\n",
    "        k18 = dr * A \n",
    "        k28 = dr *  (A .+ 0.5A *k18) # dr*A + 0.5dr*A*k188\n",
    "        k38 = dr *  (A .+ 0.5*A *k28)\n",
    "        k48 = dr *  (A .+ A*k38) \n",
    "\n",
    "        B = (I + 1.0/6.0 .* (k18 .+ 2*(k28 .+ k38) .+ k48))\n",
    "        # B = (I + 1.0/6.0 .* (k18 .+ 2*(k28 .+ k38) .+ k48))\n",
    "        # B = get_B(r1, r2, g1, g2, ρ[i], μ[i], κ[i], ω, ρₗ[i], κₗ[i], κd[i], α[i], ηₗ[i], ϕ[i], k[i]) \n",
    "        # println(ϕ[i])\n",
    "        display(A)\n",
    "        # end\n",
    "\n",
    "        r1 = r2\n",
    "    end\n",
    "# end\n",
    "\n",
    "    # D[:,:,i-1] .= B\n",
    "end\n"
   ]
  },
  {
   "cell_type": "code",
   "execution_count": 5,
   "metadata": {},
   "outputs": [],
   "source": [
    "nlayer = 3\n",
    "\n",
    "nr = 301\n",
    "\n",
    "Iφ = zeros(precc, 8, 8)\n",
    "\n",
    "for i in 1:6\n",
    "    Iφ[i,i] = 1\n",
    "end\n",
    "\n",
    "\n",
    "\n",
    "\n",
    "B1 = zeros(precc, 8, 8)\n",
    "for i in 1:6\n",
    "    B1[i,i] = 1.0\n",
    "end\n",
    "\n",
    "D = zeros(precc, 8, 8, 3)\n",
    "# for i in i1:iend # start at the top of the innermost layer\n",
    "\n",
    "for i in 2:4\n",
    "    B = zeros(precc, 8, 8)\n",
    "    r1 = rr[1,i]\n",
    "\n",
    "    Iφ[7,7] = ϕ[i] > 0 ? 1 : 0\n",
    "    Iφ[8,8] = ϕ[i] > 0 ? 1 : 0\n",
    "    for j in 1:nr-1\n",
    "        r2 = rr[j+1,i]\n",
    "        dr = r2 - r1\n",
    "        rhalf = r1 + 0.5dr\n",
    "\n",
    "        r2 = rr[j+1, i]\n",
    "        g1 = g[j, i]\n",
    "        g2 = g[j+1, i]\n",
    "\n",
    "        if iszero(ϕ[i])  \n",
    "            B[1:6,1:6] .= get_B(r1, r2, g1, g2, ρ[i], μ[i], κ[i]) * (j==1 ? B1[1:6,1:6] : B[1:6,1:6])\n",
    "        else\n",
    "            B[:,:]     .= get_B(r1, r2, g1, g2, ρ[i], μ[i], κ[i], ω, ρₗ[i], κₗ[i], κd[i], α[i], ηₗ[i], ϕ[i], k[i]) * (j==1 ? I : B)\n",
    "        end\n",
    "\n",
    "        r1 = r2\n",
    "    end\n",
    "# end\n",
    "\n",
    "    D[:,:,i-1] .= B\n",
    "end\n"
   ]
  },
  {
   "cell_type": "code",
   "execution_count": 6,
   "metadata": {},
   "outputs": [],
   "source": [
    "Bp = zeros(8);\n",
    "Bp[7] = 1.0;\n",
    "Bp2 = zeros(8,4)\n",
    "Bp2[7,4] = 1.0;\n",
    "\n",
    "\n",
    "Ic = get_Ic(rr[end,1], ρ[1], g[end,1], μ[1], \"liquid\", 8, 4)\n",
    "\n",
    "n=2\n",
    "b = zeros(precc, 4)\n",
    "b[3] = (2n+1)/r[end,end];\n",
    "\n",
    "P = zeros(4, 8)\n",
    "P[1,3] = 1.0\n",
    "P[2,4] = 1.0\n",
    "P[3,6] = 1.0\n",
    "P[4,8] = 0.0\n",
    "\n",
    "P2 = zeros(4, 8)\n",
    "P2[4,8] = 1.0\n",
    "\n",
    "D1 = D[:,:,1];\n",
    "D2 = D[:,:,2];\n",
    "D3 = D[:,:,3];"
   ]
  },
  {
   "cell_type": "code",
   "execution_count": 9,
   "metadata": {},
   "outputs": [
    {
     "data": {
      "text/plain": [
       "8×4 Matrix{Float64}:\n",
       " 0.0  0.0  0.0  0.0\n",
       " 0.0  0.0  0.0  0.0\n",
       " 0.0  0.0  0.0  0.0\n",
       " 0.0  0.0  0.0  0.0\n",
       " 0.0  0.0  0.0  0.0\n",
       " 0.0  0.0  0.0  0.0\n",
       " 0.0  0.0  0.0  1.0\n",
       " 0.0  0.0  0.0  0.0"
      ]
     },
     "metadata": {},
     "output_type": "display_data"
    }
   ],
   "source": [
    "Bp2"
   ]
  },
  {
   "cell_type": "code",
   "execution_count": 16,
   "metadata": {},
   "outputs": [
    {
     "data": {
      "text/plain": [
       "8-element Vector{Complex{Double64}}:\n",
       " 1.05564873180145262644064130503121775e-04 - 1.02588553536906105468706808916142921e-09im\n",
       " 6.62598464237650055280425216279157071e-05 - 6.43865190711379902943068898310653365e-10im\n",
       " 1.01579838462546417938769015598301973e-01 - 3.38098259796498570904118143574161613e-08im\n",
       "                                       0.0 + 0.0im\n",
       " 2.98078393218724556915679973921995514e-05 - 7.80694696715166945394866029274559716e-13im\n",
       " 1.51960986336968934217981175921433617e-08 - 3.22975948294756606908408824651316479e-15im\n",
       "                                       0.0 + 0.0im\n",
       "                                       0.0 + 0.0im"
      ]
     },
     "metadata": {},
     "output_type": "display_data"
    }
   ],
   "source": [
    "Ic*C"
   ]
  },
  {
   "cell_type": "code",
   "execution_count": 19,
   "metadata": {},
   "outputs": [
    {
     "data": {
      "text/plain": [
       "8-element Vector{Complex{Double64}}:\n",
       " 2.59248467371059530351823119486190888e-02 - 4.17054505256868270857942536654908712e-07im\n",
       "  7.9570780980223169680664020021824308e-03 + 1.32166427727115584320289960955220831e-07im\n",
       " 6.15007553709420246614806117912969478e+01 + 3.53551578899649699631228099172220805e-03im\n",
       " 2.98525276475011086876381038303754092e+01 - 1.98742673494368942022040807533872055e-03im\n",
       "     1.00397813892934897912045246953805346 - 3.93413950063978370026431401483776876e-07im\n",
       " 2.71613439562975918702535930072794131e-06 + 6.18625619490540297363668151840640414e-14im\n",
       " 2.83742658577358315791812583179985335e+03 - 9.4508025655655009269080822268262208e+02im\n",
       "                     8.097703166147945e-31 + 4.150487175634769e-32im"
      ]
     },
     "metadata": {},
     "output_type": "display_data"
    }
   ],
   "source": [
    "D2*(D1*Ic+Bp2)*C"
   ]
  },
  {
   "cell_type": "code",
   "execution_count": 13,
   "metadata": {},
   "outputs": [
    {
     "data": {
      "text/plain": [
       "4-element Vector{Complex{Double64}}:\n",
       " 2.98078393218724556915679973921995076e-13 - 7.80694696715166945394866029274556174e-21im\n",
       " 6.62598464237650055280425216279157071e-05 - 6.43865190711379902943068898310653365e-10im\n",
       " 3.33645525662176713073975488142788121e-03 - 1.11050552277519483303610147659494962e-09im\n",
       " 1.85430181241356336370606272079780105e+03 - 9.3348290069219426067913951498726144e+02im"
      ]
     },
     "metadata": {},
     "output_type": "display_data"
    }
   ],
   "source": [
    "# P2*D2*(D1*Ic + Bp2) extracts the Dary flux component associated with the fourth constant at the top of the porous layer\n",
    "# P*D3*D2*(D1*Ic + Bp2) extracts the third, fourth and sixth components at the surface\n",
    "\n",
    "M = (P*D3 + P2)*D2*(D1*Ic + Bp2)\n",
    "C = M \\ b"
   ]
  },
  {
   "cell_type": "code",
   "execution_count": 34,
   "metadata": {},
   "outputs": [
    {
     "data": {
      "text/plain": [
       "8-element Vector{Complex{Double64}}:\n",
       " 2.58736095016631318076057749551933192e-02 - 3.99089239365898453713901753726087895e-07im\n",
       " 7.76271518807179529325479778293365783e-03 + 1.37838095886836360070373619192809787e-07im\n",
       "                   -1.4558516358275158e-23 + 4.415266972528958e-29im\n",
       "                     6.528814285063869e-24 + 5.755676423360922e-29im\n",
       "     1.02639452689339190670576207696128195 - 4.02197909720942688772920065206962764e-07im\n",
       " 2.74725274725274716566109610267881013e-06 - 1.4810379521387565e-38im\n",
       "                                       0.0 + 0.0im\n",
       "                                       0.0 + 0.0im"
      ]
     },
     "metadata": {},
     "output_type": "display_data"
    }
   ],
   "source": [
    "D3*D2*(D1*Ic + Bp2)*C"
   ]
  }
 ],
 "metadata": {
  "kernelspec": {
   "display_name": "Julia 1.9.0",
   "language": "julia",
   "name": "julia-1.9"
  },
  "language_info": {
   "file_extension": ".jl",
   "mimetype": "application/julia",
   "name": "julia",
   "version": "1.9.0"
  }
 },
 "nbformat": 4,
 "nbformat_minor": 2
}
