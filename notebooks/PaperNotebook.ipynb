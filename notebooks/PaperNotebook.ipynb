{
 "cells": [
  {
   "cell_type": "markdown",
   "metadata": {},
   "source": [
    "# Poroviscoelastic Tides of Io - Julia Notebook\n",
    "### Hamish Hay (hamish.hay@earth.ox.ac.uk)\n",
    "\n",
    "This is an accompanying Julia notebook to the paper \"Poroviscoelastic Tides of Io\" by Hay, Hewitt, Rovira-Navarro, and Katz. This notebook reproduces all figures in the manuscript."
   ]
  },
  {
   "cell_type": "code",
   "execution_count": 25,
   "metadata": {},
   "outputs": [
    {
     "name": "stderr",
     "output_type": "stream",
     "text": [
      "WARNING: replacing module TidalLoveNumbers.\n",
      "WARNING: using TidalLoveNumbers.get_g in module Main conflicts with an existing identifier.\n",
      "WARNING: using TidalLoveNumbers.calculate_y in module Main conflicts with an existing identifier.\n",
      "WARNING: using TidalLoveNumbers.get_heating_profile in module Main conflicts with an existing identifier.\n",
      "WARNING: using TidalLoveNumbers.get_total_heating in module Main conflicts with an existing identifier.\n",
      "WARNING: using TidalLoveNumbers.expand_layers in module Main conflicts with an existing identifier.\n"
     ]
    }
   ],
   "source": [
    "include(\"../TidalLoveNumbersPorousK23.jl\")\n",
    "using .TidalLoveNumbers\n",
    "using DoubleFloats\n",
    "using PyPlot\n",
    "using Statistics\n",
    "using PyCall\n",
    "using BenchmarkTools\n",
    "using LinearAlgebra\n",
    "    \n",
    "@pyimport seaborn as sns\n",
    "@pyimport matplotlib as mpl\n",
    "@pyimport matplotlib.gridspec as gspec\n",
    "\n",
    "PyPlot.isjulia_display[] = false;\n",
    "\n",
    "PyPlot.matplotlib[:rc](\"font\",family=\"Arial\", weight=\"medium\", style=\"normal\", size=12)\n",
    "PyPlot.matplotlib[:rc](\"axes\",titlesize=14.5, labelsize=12, unicode_minus=false)\n",
    "PyPlot.matplotlib[:rc](\"xtick\",labelsize=11.5)\n",
    "PyPlot.matplotlib[:rc](\"ytick\",labelsize=11.5)\n",
    "PyPlot.matplotlib[:rc](\"pdf\",fonttype=42)\n",
    "PyPlot.matplotlib[:rc](\"mathtext\", fontset = \"stix\")\n",
    "\n",
    "#mpl.style.use(\"dark_background\")\n",
    "\n",
    "# Get precision of love number calculations\n",
    "prec = TidalLoveNumbers.prec    # Real\n",
    "precc = TidalLoveNumbers.precc; # Complex"
   ]
  },
  {
   "cell_type": "code",
   "execution_count": 2,
   "metadata": {},
   "outputs": [
    {
     "data": {
      "text/plain": [
       "get_complex_moduli (generic function with 1 method)"
      ]
     },
     "metadata": {},
     "output_type": "display_data"
    }
   ],
   "source": [
    "# Convenience function for returning internal structure based on \n",
    "# asthensphere thickness\n",
    "function get_internal_structure(asthenosphere_thickness)    # Input is in km\n",
    "    R = 1820.0\n",
    "    r_cmb = 700.0\n",
    "    r_crust = 1800.0\n",
    "    r_asthenosphere = r_crust - asthenosphere_thickness\n",
    "\n",
    "    return [0, r_cmb, r_asthenosphere, r_crust, R] .* 1e3\n",
    "end;\n",
    "\n",
    "# Convenience function to calculate the complex moduli for a \n",
    "# poroviscoelastic compacting material\n",
    "function get_complex_moduli(μ, η, κd, ζ, κs, ω)\n",
    "    μc = zeros(precc, length(μ))\n",
    "    κdc = zero(μc)\n",
    "    αc = zero(μc)\n",
    "    \n",
    "    for i in 1:length(μ) \n",
    "        μc[i]  =  isinf(η[i]) ? μ[i] : 1im*ω*μ[i] / (1im*ω + μ[i] / η[i])\n",
    "        κdc[i] =  isinf(ζ[i]) ? κd[i] : 1im*ω*κd[i] / (1im*ω + κd[i] / ζ[i])\n",
    "        αc[i]  = 1.0 - κdc[i] / κs[i]\n",
    "    end\n",
    "    \n",
    "    return μc, κdc, αc\n",
    "end"
   ]
  },
  {
   "cell_type": "markdown",
   "metadata": {},
   "source": [
    "## Define main material parameters for each layer"
   ]
  },
  {
   "cell_type": "code",
   "execution_count": 26,
   "metadata": {},
   "outputs": [],
   "source": [
    "n = 2\n",
    "ω = 2 * 2.05e-5\n",
    "ecc = 0.0048\n",
    "nr = 500\n",
    "\n",
    "# Solid material parameters -------------------------------------------\n",
    "ρs = prec[3300, 3300, 3300, 3300]   # Solid density\n",
    "μ = prec[60, 60, 60, 60] .* 1e9     # Shear modulus\n",
    "κs = prec[100, 100, 100, 100].*1e9  # Solid bulk modulus\n",
    "η = prec[1e25, 1e18, 1e15, 1e25]    # Solid shear viscosity\n",
    "ζ = prec[1e25, 1e25, 1e25, 1e25]    # Solid compaction viscosity\n",
    "\n",
    "# Liquid/two-phase material parameters --------------------------------\n",
    "ρl = [0, 0, 3300, 0]                # Liquid density\n",
    "κl = [0, 0, 100e9, 0] .* 100000.0   # Liquid bulk modulus\n",
    "κd = 0.05κs                         # Drained bulk modulus\n",
    "k = [0, 0, 1e-7, 0]                 # Permeability\n",
    "α = 1.0 .- κd/κs                    # Biot's modulus\n",
    "\n",
    "ηl = [0, 0, 100, 0]                 # Liquid viscosity\n",
    "ϕ =  [0, 0, prec(0.1), 0]           # Porosity\n",
    "\n",
    "ρ = (1 .- ϕ) .* ρs + ϕ .* ρl        # Bulk density\n",
    "\n",
    "D = 300                              # Asthenosphere thickness in km\n",
    "r = get_internal_structure(D)       # Internal structure\n",
    "\n",
    "R = r[end]                          # Mean radius \n",
    "rr = expand_layers(r, nr=nr)        # Discretize primary layers into secondary layers\n",
    "g = get_g(rr, ρ);                   # Calculate g at each secondary layer"
   ]
  },
  {
   "cell_type": "markdown",
   "metadata": {},
   "source": [
    "# Total Heating Rate"
   ]
  },
  {
   "cell_type": "markdown",
   "metadata": {},
   "source": [
    "## vs. Mobility"
   ]
  },
  {
   "cell_type": "code",
   "execution_count": 27,
   "metadata": {},
   "outputs": [
    {
     "data": {
      "text/plain": [
       "([0.0, 3.011287156647595e-8, 3.442073927240925e-6, 4.295155708732189e-16], [0.0 8.673543154587074e-8 7.816945509899781e-6 4.3922497278221076e-16; 0.0 8.573323526433404e-8 7.787546110933109e-6 4.3918279028709356e-16; … ; 0.0 1.3132685340480763e-8 1.5291597432127612e-6 4.207445240096661e-16; 0.0 0.0 0.0 0.0])"
      ]
     },
     "metadata": {},
     "output_type": "display_data"
    }
   ],
   "source": [
    "μc, κdc, αc = get_complex_moduli(μ, η, κd, ζ, κs, ω)\n",
    "\n",
    "\n",
    "k = [0, 0, 1e-12, 0]\n",
    "# y1 = ComplexF64.(calculate_y(rr, ρ, g, μ, κs, ω, ρl, κl, κd, α, ηl, ϕ, k));\n",
    "y1 = ComplexF64.(calculate_y(rr, ρ, g, μc, κs));\n",
    "\n",
    "get_total_heating(y1, ω, R, ecc)\n",
    "E1, E2 = get_heating_profile(y1, rr, ρ, g, μc, κs, ω, ecc)\n",
    "\n",
    "# y1[:,end,end]\n",
    "# y1[5,end,end]-1"
   ]
  },
  {
   "cell_type": "code",
   "execution_count": 28,
   "metadata": {},
   "outputs": [
    {
     "data": {
      "image/png": "[encoded data removed]",
      "text/plain": [
       "Figure(PyObject <Figure size 640x480 with 1 Axes>)"
      ]
     },
     "metadata": {},
     "output_type": "display_data"
    }
   ],
   "source": [
    "fig, ax = subplots()\n",
    "semilogy(rr[1:end-1,2:end][:]./1e3, E2[1:end-1,2:end][:])\n",
    "display(fig)"
   ]
  },
  {
   "cell_type": "code",
   "execution_count": 16,
   "metadata": {},
   "outputs": [
    {
     "data": {
      "text/plain": [
       "6×4 Matrix{Float64}:\n",
       " 0.0  8.7256e-15   3.20614e-6  7.86331e-16\n",
       " 0.0  5.82497e-15  3.06705e-6  7.75763e-16\n",
       " 0.0  3.50181e-15  2.93703e-6  7.65361e-16\n",
       " 0.0  2.01061e-15  2.81565e-6  7.55122e-16\n",
       " 0.0  1.06985e-15  2.70258e-6  7.45044e-16\n",
       " 0.0  0.0          0.0         0.0"
      ]
     },
     "metadata": {},
     "output_type": "display_data"
    }
   ],
   "source": [
    "E2"
   ]
  },
  {
   "cell_type": "code",
   "execution_count": 37,
   "metadata": {},
   "outputs": [
    {
     "data": {
      "text/plain": [
       "0.033716597230781575 - 1.8131483965158801e-7im"
      ]
     },
     "metadata": {},
     "output_type": "display_data"
    }
   ],
   "source": [
    "k = [0, 0, 1e-6, 0]\n",
    "y1 = ComplexF64.(calculate_y(rr, ρ, g, μ, κs, ω, ρl, κl, κd, α, ηl, ϕ, k));\n",
    "y1[:,end,end]\n",
    "y1[5,end,end]-1\n"
   ]
  },
  {
   "cell_type": "code",
   "execution_count": 54,
   "metadata": {},
   "outputs": [
    {
     "data": {
      "text/plain": [
       "4-element Vector{Complex{Double64}}:\n",
       " 2.98078393218724566364574572623529703e-13 - 7.80694696715166970142389270964626314e-21im\n",
       " 6.62598464237650076284373152326003475e-05 - 6.43865190711379923353184004067644069e-10im\n",
       " 3.33645525662176723650325458708266491e-03 - 1.11050552277519486823841694352343001e-09im\n",
       " 1.85430181241356342248624531942437694e+03 - 9.33482900692194290269950956407478348e+02im"
      ]
     },
     "metadata": {},
     "output_type": "display_data"
    }
   ],
   "source": [
    "y1 = ComplexF64.(calculate_y(rr, ρ, g, μ, κ, ω, ρₗ, κₗ,κd,α, ηₗ, ϕ, k));"
   ]
  },
  {
   "cell_type": "code",
   "execution_count": 25,
   "metadata": {},
   "outputs": [
    {
     "data": {
      "text/plain": [
       "4×4 Matrix{Complex{Double64}}:\n",
       "  -2.030246293939968e21 + 9.34048830098404e15im   …  -4.7320255230432086e-5 + 7.314400009724664e-6im\n",
       "   6.506549908054825e21 - 4.425538103314862e15im      3.0067094181605367e-5 + 2.673382933499176e-7im\n",
       " -2.0509798579888925e11 - 750912.8686811159im         3.836768918852538e-17 - 3.924497350526136e-15im\n",
       "   6.924358800440116e13 + 3.381290225392138e12im      -5.124826641070161e-9 + 1.396789282442257e-8im"
      ]
     },
     "metadata": {},
     "output_type": "display_data"
    }
   ],
   "source": [
    "P*D3*D2*(D1*Ic + Bp2) + P2*D2*(D1*Ic + Bp2)\n",
    "(P*D3 + P2)*D2*(D1*Ic + Bp2)"
   ]
  },
  {
   "cell_type": "code",
   "execution_count": 7,
   "metadata": {},
   "outputs": [
    {
     "data": {
      "text/plain": [
       "8×8 Matrix{Complex{Double64}}:\n",
       " -0.0001999520076787714 + 0.0im  …  0.0 + 0.0im  0.0 + 0.0im\n",
       "                -0.0001 + 0.0im     0.0 + 0.0im  0.0 + 0.0im\n",
       "      7198.836006115696 + 0.0im     0.0 + 0.0im  0.0 + 0.0im\n",
       "    -3599.4210476015523 + 0.0im     0.0 + 0.0im  0.0 + 0.0im\n",
       "  7.737913321182261e-12 + 0.0im     0.0 + 0.0im  0.0 + 0.0im\n",
       " 2.3213739963546786e-15 + 0.0im  …  0.0 + 0.0im  0.0 + 0.0im\n",
       "                    0.0 + 0.0im     0.0 + 0.0im  0.0 + 0.0im\n",
       "                    0.0 + 0.0im     0.0 + 0.0im  0.0 + 0.0im"
      ]
     },
     "metadata": {},
     "output_type": "display_data"
    },
    {
     "data": {
      "text/plain": [
       "8×8 Matrix{Complex{Double64}}:\n",
       " -0.00013359822339338844 + 0.0im  …  0.0 + 0.0im  0.0 + 0.0im\n",
       "   -6.681514476614699e-5 + 0.0im     0.0 + 0.0im  0.0 + 0.0im\n",
       "      3213.7433914212966 + 0.0im     0.0 + 0.0im  0.0 + 0.0im\n",
       "     -1606.8747402543524 + 0.0im     0.0 + 0.0im  0.0 + 0.0im\n",
       "  1.1581076937369453e-11 + 0.0im     0.0 + 0.0im  0.0 + 0.0im\n",
       "  2.3213739963546786e-15 + 0.0im  …  0.0 + 0.0im  0.0 + 0.0im\n",
       "                     0.0 + 0.0im     0.0 + 0.0im  0.0 + 0.0im\n",
       "                     0.0 + 0.0im     0.0 + 0.0im  0.0 + 0.0im"
      ]
     },
     "metadata": {},
     "output_type": "display_data"
    },
    {
     "data": {
      "text/plain": [
       "8×8 Matrix{Complex{Double64}}:\n",
       " -0.00010031037174520305 + 0.0im  …  0.0 + 0.0im  0.0 + 0.0im\n",
       "   -5.016722408026756e-5 + 0.0im     0.0 + 0.0im  0.0 + 0.0im\n",
       "      1811.7582063458992 + 0.0im     0.0 + 0.0im  0.0 + 0.0im\n",
       "      -905.8821477166539 + 0.0im     0.0 + 0.0im  0.0 + 0.0im\n",
       "   1.542424055355664e-11 + 0.0im     0.0 + 0.0im  0.0 + 0.0im\n",
       "  2.3213739963546786e-15 + 0.0im  …  0.0 + 0.0im  0.0 + 0.0im\n",
       "                     0.0 + 0.0im     0.0 + 0.0im  0.0 + 0.0im\n",
       "                     0.0 + 0.0im     0.0 + 0.0im  0.0 + 0.0im"
      ]
     },
     "metadata": {},
     "output_type": "display_data"
    }
   ],
   "source": [
    "Iφ = zeros(precc, 8, 8)\n",
    "\n",
    "for i in 1:6\n",
    "    Iφ[i,i] = 1\n",
    "end\n",
    "\n",
    "for i in 2:2\n",
    "    B = zeros(precc, 8, 8)\n",
    "    \n",
    "    Iφ[7,7] = ϕ[i] > 0 ? 1 : 0\n",
    "    Iφ[8,8] = ϕ[i] > 0 ? 1 : 0\n",
    "\n",
    "\n",
    "    r1 = rr[1,i]\n",
    "    for j in 1:3#nr-1\n",
    "        r2 = rr[j+1,i]\n",
    "        dr = r2 - r1\n",
    "        rhalf = r1 + 0.5dr\n",
    "\n",
    "        r2 = rr[j+1, i]\n",
    "        g1 = g[j, i]\n",
    "        g2 = g[j+1, i]\n",
    "\n",
    "        # if iszero(ϕ[i])  \n",
    "        #     B[1:6,1:6] .= get_B(r1, r2, g1, g2, ρ[i], μ[i], κ[i]) * (j==1 ? B1[1:6,1:6] : B[1:6,1:6])\n",
    "        # else\n",
    "        A = Iφ * get_A(r1, g1, ρ[i], μ[i], κ[i], ω, ρₗ[i], κₗ[i], κd[i], α[i], ηₗ[i], ϕ[i], k[i]) * Iφ\n",
    "\n",
    "        k18 = dr * A \n",
    "        k28 = dr *  (A .+ 0.5A *k18) # dr*A + 0.5dr*A*k188\n",
    "        k38 = dr *  (A .+ 0.5*A *k28)\n",
    "        k48 = dr *  (A .+ A*k38) \n",
    "\n",
    "        B = (I + 1.0/6.0 .* (k18 .+ 2*(k28 .+ k38) .+ k48))\n",
    "        # B = (I + 1.0/6.0 .* (k18 .+ 2*(k28 .+ k38) .+ k48))\n",
    "        # B = get_B(r1, r2, g1, g2, ρ[i], μ[i], κ[i], ω, ρₗ[i], κₗ[i], κd[i], α[i], ηₗ[i], ϕ[i], k[i]) \n",
    "        # println(ϕ[i])\n",
    "        display(A)\n",
    "        # end\n",
    "\n",
    "        r1 = r2\n",
    "    end\n",
    "# end\n",
    "\n",
    "    # D[:,:,i-1] .= B\n",
    "end\n"
   ]
  },
  {
   "cell_type": "code",
   "execution_count": 5,
   "metadata": {},
   "outputs": [],
   "source": [
    "nlayer = 3\n",
    "\n",
    "nr = 301\n",
    "\n",
    "Iφ = zeros(precc, 8, 8)\n",
    "\n",
    "for i in 1:6\n",
    "    Iφ[i,i] = 1\n",
    "end\n",
    "\n",
    "\n",
    "\n",
    "\n",
    "B1 = zeros(precc, 8, 8)\n",
    "for i in 1:6\n",
    "    B1[i,i] = 1.0\n",
    "end\n",
    "\n",
    "D = zeros(precc, 8, 8, 3)\n",
    "# for i in i1:iend # start at the top of the innermost layer\n",
    "\n",
    "for i in 2:4\n",
    "    B = zeros(precc, 8, 8)\n",
    "    r1 = rr[1,i]\n",
    "\n",
    "    Iφ[7,7] = ϕ[i] > 0 ? 1 : 0\n",
    "    Iφ[8,8] = ϕ[i] > 0 ? 1 : 0\n",
    "    for j in 1:nr-1\n",
    "        r2 = rr[j+1,i]\n",
    "        dr = r2 - r1\n",
    "        rhalf = r1 + 0.5dr\n",
    "\n",
    "        r2 = rr[j+1, i]\n",
    "        g1 = g[j, i]\n",
    "        g2 = g[j+1, i]\n",
    "\n",
    "        if iszero(ϕ[i])  \n",
    "            B[1:6,1:6] .= get_B(r1, r2, g1, g2, ρ[i], μ[i], κ[i]) * (j==1 ? B1[1:6,1:6] : B[1:6,1:6])\n",
    "        else\n",
    "            B[:,:]     .= get_B(r1, r2, g1, g2, ρ[i], μ[i], κ[i], ω, ρₗ[i], κₗ[i], κd[i], α[i], ηₗ[i], ϕ[i], k[i]) * (j==1 ? I : B)\n",
    "        end\n",
    "\n",
    "        r1 = r2\n",
    "    end\n",
    "# end\n",
    "\n",
    "    D[:,:,i-1] .= B\n",
    "end\n"
   ]
  },
  {
   "cell_type": "code",
   "execution_count": 6,
   "metadata": {},
   "outputs": [],
   "source": [
    "Bp = zeros(8);\n",
    "Bp[7] = 1.0;\n",
    "Bp2 = zeros(8,4)\n",
    "Bp2[7,4] = 1.0;\n",
    "\n",
    "\n",
    "Ic = get_Ic(rr[end,1], ρ[1], g[end,1], μ[1], \"liquid\", 8, 4)\n",
    "\n",
    "n=2\n",
    "b = zeros(precc, 4)\n",
    "b[3] = (2n+1)/r[end,end];\n",
    "\n",
    "P = zeros(4, 8)\n",
    "P[1,3] = 1.0\n",
    "P[2,4] = 1.0\n",
    "P[3,6] = 1.0\n",
    "P[4,8] = 0.0\n",
    "\n",
    "P2 = zeros(4, 8)\n",
    "P2[4,8] = 1.0\n",
    "\n",
    "D1 = D[:,:,1];\n",
    "D2 = D[:,:,2];\n",
    "D3 = D[:,:,3];"
   ]
  },
  {
   "cell_type": "code",
   "execution_count": 9,
   "metadata": {},
   "outputs": [
    {
     "data": {
      "text/plain": [
       "8×4 Matrix{Float64}:\n",
       " 0.0  0.0  0.0  0.0\n",
       " 0.0  0.0  0.0  0.0\n",
       " 0.0  0.0  0.0  0.0\n",
       " 0.0  0.0  0.0  0.0\n",
       " 0.0  0.0  0.0  0.0\n",
       " 0.0  0.0  0.0  0.0\n",
       " 0.0  0.0  0.0  1.0\n",
       " 0.0  0.0  0.0  0.0"
      ]
     },
     "metadata": {},
     "output_type": "display_data"
    }
   ],
   "source": [
    "Bp2"
   ]
  },
  {
   "cell_type": "code",
   "execution_count": 16,
   "metadata": {},
   "outputs": [
    {
     "data": {
      "text/plain": [
       "8-element Vector{Complex{Double64}}:\n",
       " 1.05564873180145262644064130503121775e-04 - 1.02588553536906105468706808916142921e-09im\n",
       " 6.62598464237650055280425216279157071e-05 - 6.43865190711379902943068898310653365e-10im\n",
       " 1.01579838462546417938769015598301973e-01 - 3.38098259796498570904118143574161613e-08im\n",
       "                                       0.0 + 0.0im\n",
       " 2.98078393218724556915679973921995514e-05 - 7.80694696715166945394866029274559716e-13im\n",
       " 1.51960986336968934217981175921433617e-08 - 3.22975948294756606908408824651316479e-15im\n",
       "                                       0.0 + 0.0im\n",
       "                                       0.0 + 0.0im"
      ]
     },
     "metadata": {},
     "output_type": "display_data"
    }
   ],
   "source": [
    "Ic*C"
   ]
  },
  {
   "cell_type": "code",
   "execution_count": 19,
   "metadata": {},
   "outputs": [
    {
     "data": {
      "text/plain": [
       "8-element Vector{Complex{Double64}}:\n",
       " 2.59248467371059530351823119486190888e-02 - 4.17054505256868270857942536654908712e-07im\n",
       "  7.9570780980223169680664020021824308e-03 + 1.32166427727115584320289960955220831e-07im\n",
       " 6.15007553709420246614806117912969478e+01 + 3.53551578899649699631228099172220805e-03im\n",
       " 2.98525276475011086876381038303754092e+01 - 1.98742673494368942022040807533872055e-03im\n",
       "     1.00397813892934897912045246953805346 - 3.93413950063978370026431401483776876e-07im\n",
       " 2.71613439562975918702535930072794131e-06 + 6.18625619490540297363668151840640414e-14im\n",
       " 2.83742658577358315791812583179985335e+03 - 9.4508025655655009269080822268262208e+02im\n",
       "                     8.097703166147945e-31 + 4.150487175634769e-32im"
      ]
     },
     "metadata": {},
     "output_type": "display_data"
    }
   ],
   "source": [
    "D2*(D1*Ic+Bp2)*C"
   ]
  },
  {
   "cell_type": "code",
   "execution_count": 13,
   "metadata": {},
   "outputs": [
    {
     "data": {
      "text/plain": [
       "4-element Vector{Complex{Double64}}:\n",
       " 2.98078393218724556915679973921995076e-13 - 7.80694696715166945394866029274556174e-21im\n",
       " 6.62598464237650055280425216279157071e-05 - 6.43865190711379902943068898310653365e-10im\n",
       " 3.33645525662176713073975488142788121e-03 - 1.11050552277519483303610147659494962e-09im\n",
       " 1.85430181241356336370606272079780105e+03 - 9.3348290069219426067913951498726144e+02im"
      ]
     },
     "metadata": {},
     "output_type": "display_data"
    }
   ],
   "source": [
    "# P2*D2*(D1*Ic + Bp2) extracts the Dary flux component associated with the fourth constant at the top of the porous layer\n",
    "# P*D3*D2*(D1*Ic + Bp2) extracts the third, fourth and sixth components at the surface\n",
    "\n",
    "M = (P*D3 + P2)*D2*(D1*Ic + Bp2)\n",
    "C = M \\ b"
   ]
  },
  {
   "cell_type": "code",
   "execution_count": 34,
   "metadata": {},
   "outputs": [
    {
     "data": {
      "text/plain": [
       "8-element Vector{Complex{Double64}}:\n",
       " 2.58736095016631318076057749551933192e-02 - 3.99089239365898453713901753726087895e-07im\n",
       " 7.76271518807179529325479778293365783e-03 + 1.37838095886836360070373619192809787e-07im\n",
       "                   -1.4558516358275158e-23 + 4.415266972528958e-29im\n",
       "                     6.528814285063869e-24 + 5.755676423360922e-29im\n",
       "     1.02639452689339190670576207696128195 - 4.02197909720942688772920065206962764e-07im\n",
       " 2.74725274725274716566109610267881013e-06 - 1.4810379521387565e-38im\n",
       "                                       0.0 + 0.0im\n",
       "                                       0.0 + 0.0im"
      ]
     },
     "metadata": {},
     "output_type": "display_data"
    }
   ],
   "source": [
    "D3*D2*(D1*Ic + Bp2)*C"
   ]
  }
 ],
 "metadata": {
  "kernelspec": {
   "display_name": "Julia 1.9.0",
   "language": "julia",
   "name": "julia-1.9"
  },
  "language_info": {
   "file_extension": ".jl",
   "mimetype": "application/julia",
   "name": "julia",
   "version": "1.9.0"
  }
 },
 "nbformat": 4,
 "nbformat_minor": 2
}
