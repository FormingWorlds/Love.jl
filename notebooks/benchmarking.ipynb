{
 "cells": [
  {
   "cell_type": "code",
   "execution_count": 1,
   "metadata": {},
   "outputs": [
    {
     "data": {
      "text/plain": [
       "Complex{Double64}"
      ]
     },
     "metadata": {},
     "output_type": "display_data"
    }
   ],
   "source": [
    "include(\"TidalLoveNumbersPorousK23.jl\")\n",
    "using .TidalLoveNumbers\n",
    "using DoubleFloats\n",
    "using PyPlot\n",
    "using Statistics\n",
    "using PyCall\n",
    "using BenchmarkTools\n",
    "\n",
    "prec = TidalLoveNumbers.prec\n",
    "precc = TidalLoveNumbers.precc"
   ]
  },
  {
   "cell_type": "code",
   "execution_count": 2,
   "metadata": {},
   "outputs": [
    {
     "data": {
      "text/plain": [
       "301×4 Matrix{Double64}:\n",
       " 0.0                     0.009225890013055914  …  1.6606602023500647\n",
       " 3.075296671018639e-5    0.013808082052873687     1.660721708283485\n",
       " 6.150593342037278e-5    0.018390274092691457     1.6607832142169054\n",
       " 9.225890013055916e-5    0.02297246613250923      1.6608447201503258\n",
       " 0.00012301186684074555  0.027554658172327        1.6609062260837464\n",
       " 0.00015376483355093192  0.03213685021214477   …  1.6609677320171665\n",
       " 0.0001845178002611183   0.03671904225196254      1.6610292379505869\n",
       " 0.0002152707669713047   0.041301234291780314     1.6610907438840075\n",
       " 0.0002460237336814911   0.04588342633159809      1.6611522498174276\n",
       " 0.00027677670039167744  0.05046561837141585      1.6612137557508482\n",
       " ⋮                                             ⋱  \n",
       " 0.008979866279374424    1.347225965639845        1.6786199349088136\n",
       " 0.00901061924608461     1.3518081576796628       1.678681440842234\n",
       " 0.009041372212794796    1.3563903497194807       1.6787429467756543\n",
       " 0.009072125179504982    1.3609725417592986    …  1.6788044527090746\n",
       " 0.009102878146215168    1.365554733799116        1.6788659586424952\n",
       " 0.009133631112925356    1.370136925838934        1.6789274645759154\n",
       " 0.00916438407963554     1.374719117878752        1.6789889705093357\n",
       " 0.00919513704634573     1.3793013099185694       1.6790504764427563\n",
       " 0.009225890013055914    1.3838835019583873    …  1.6791119823761766"
      ]
     },
     "metadata": {},
     "output_type": "display_data"
    }
   ],
   "source": [
    "non_dim = false\n",
    "\n",
    "G = prec(6.6743e-11)\n",
    "e = 0.0041\n",
    "\n",
    "h_core = 700.0 - 690.0\n",
    "h_mantle_low = 800. + 690\n",
    "h_mantle_up = 300. - 0.\n",
    "\n",
    "h_crust = 20.\n",
    "ω0 = 2*2.047e-5\n",
    "ω = ω0\n",
    "\n",
    "#enceladus test model:\n",
    "n = 2\n",
    "ρₛ = [3300, 3300, 3300, prec(3300)]\n",
    "r = [0, \n",
    "     h_core, \n",
    "     h_core+h_mantle_low, \n",
    "     h_core+h_mantle_low+h_mantle_up, \n",
    "     h_core+h_mantle_low+h_mantle_up+h_crust] .* 1e3\n",
    "μ = [60+0im, 60, 60, prec(60)] .* 1e9\n",
    "κ = [100e9, 100e9, 100e9, 100e9] .* 100000.0\n",
    "η = [1e25, 1e25, 1e25, 1e25]\n",
    "\n",
    "R = r[end]\n",
    "μ0 = μ[end]\n",
    "bp = 3\n",
    "tp = 3\n",
    "\n",
    "\n",
    "ρₗ = [0, 0, 3300, 0]\n",
    "# α  = [0, 0, 0.95, 0., 0]\n",
    "κₗ = [0, 0, 100e9, 0] .* 100000.0\n",
    "κd = 0.05κ\n",
    "α = zero(κd)\n",
    "α[3] = κd[3]/κ[3]\n",
    "k = [0, 0, 1e-7, 0]\n",
    "\n",
    "ηₗ = [0, 0, 1.0, 0]\n",
    "ϕ =  [0, 0, prec(0.1), 0]\n",
    "\n",
    "ρ = (1 .- ϕ) .* ρₛ + ϕ .* ρₗ # bulk density\n",
    "# ρ = ρₛ\n",
    "r = expand_layers(r)\n",
    "g = get_g(r, ρ)\n"
   ]
  },
  {
   "cell_type": "code",
   "execution_count": 3,
   "metadata": {},
   "outputs": [
    {
     "data": {
      "text/plain": [
       "8×8 Matrix{Complex{Double64}}:\n",
       " 0.0 + 0.0im  0.0 + 0.0im  0.0 + 0.0im  …  0.0 + 0.0im  0.0 + 0.0im\n",
       " 0.0 + 0.0im  0.0 + 0.0im  0.0 + 0.0im     0.0 + 0.0im  0.0 + 0.0im\n",
       " 0.0 + 0.0im  0.0 + 0.0im  0.0 + 0.0im     0.0 + 0.0im  0.0 + 0.0im\n",
       " 0.0 + 0.0im  0.0 + 0.0im  0.0 + 0.0im     0.0 + 0.0im  0.0 + 0.0im\n",
       " 0.0 + 0.0im  0.0 + 0.0im  0.0 + 0.0im     0.0 + 0.0im  0.0 + 0.0im\n",
       " 0.0 + 0.0im  0.0 + 0.0im  0.0 + 0.0im  …  0.0 + 0.0im  0.0 + 0.0im\n",
       " 0.0 + 0.0im  0.0 + 0.0im  0.0 + 0.0im     0.0 + 0.0im  0.0 + 0.0im\n",
       " 0.0 + 0.0im  0.0 + 0.0im  0.0 + 0.0im     0.0 + 0.0im  0.0 + 0.0im"
      ]
     },
     "metadata": {},
     "output_type": "display_data"
    }
   ],
   "source": [
    "B = zeros(precc, 8, 8)"
   ]
  },
  {
   "cell_type": "code",
   "execution_count": 4,
   "metadata": {},
   "outputs": [
    {
     "data": {
      "text/plain": [
       "test1 (generic function with 1 method)"
      ]
     },
     "metadata": {},
     "output_type": "display_data"
    }
   ],
   "source": [
    "test1() = for i in 1:1000 get_B!(B, r[1,3], r[2,3], g[2,3], g[1,3], ρ[3], μ[3], κ[3], ω, ρₗ[3], κₗ[3], κd[3], α[3], ηₗ[3], ϕ[3], k[3]) end"
   ]
  },
  {
   "cell_type": "code",
   "execution_count": 11,
   "metadata": {},
   "outputs": [
    {
     "name": "stdout",
     "output_type": "stream",
     "text": [
      "  83.308 ms (711000 allocations: 105.59 MiB)\n"
     ]
    }
   ],
   "source": [
    "@btime test1()"
   ]
  },
  {
   "cell_type": "code",
   "execution_count": 5,
   "metadata": {},
   "outputs": [
    {
     "name": "stdout",
     "output_type": "stream",
     "text": [
      "  83.720 ms (711000 allocations: 105.59 MiB)\n"
     ]
    }
   ],
   "source": [
    "@btime test1()"
   ]
  },
  {
   "cell_type": "code",
   "execution_count": 3,
   "metadata": {},
   "outputs": [],
   "source": [
    "res = 10.0\n",
    "lons = deg2rad.(collect(0:res:360-0.001))'\n",
    "clats = deg2rad.(collect(0:res:180))\n",
    "\n",
    "lons_deg = rad2deg.(lons[:])\n",
    "lats_deg = 90 .- rad2deg.(clats)\n",
    "dres = deg2rad(res);"
   ]
  },
  {
   "cell_type": "markdown",
   "metadata": {},
   "source": [
    "# Bulk dissipation"
   ]
  },
  {
   "cell_type": "code",
   "execution_count": 4,
   "metadata": {},
   "outputs": [
    {
     "data": {
      "text/plain": [
       "(Figure(PyObject <Figure size 1000x400 with 2 Axes>), PyObject[PyObject <Axes: >, PyObject <Axes: >])"
      ]
     },
     "metadata": {},
     "output_type": "display_data"
    }
   ],
   "source": [
    "fig, axes = plt.subplots(ncols=2, figsize=(10,4))"
   ]
  },
  {
   "cell_type": "code",
   "execution_count": 5,
   "metadata": {},
   "outputs": [],
   "source": [
    "# κ = [100e9, 100e9, 10e9 + 0im, 100e9] \n",
    "# η = [1e30, 1e30, 1e20, 1e30]\n",
    "# η_solid = [1e30, 1e30, 1e20, 1e30]\n",
    "# μ = [60+0im, 60, 60, prec(60)] .* 1e9\n",
    "\n",
    "# ρₗ = [0, 0, 3300, 0]\n",
    "# # α  = [0, 0, 0.95, 0., 0]\n",
    "# κₗ = [0, 0, 1e9, 0] \n",
    "# κd = copy(κ)\n",
    "# κd[3] = 0.05 * κ[3]\n",
    "\n",
    "# # Set Biot's coefficient\n",
    "# α = zero(κd)\n",
    "# α[3] = κd[3]/κ[3]\n",
    "\n",
    "# # α = [0, 0, 0.0+0im, 0.0]\n",
    "# k = [0, 0, 1e-8, 0]\n",
    "\n",
    "# ηₗ = [0, 0, 1e-2, 0]\n",
    "\n",
    "# ϕ =  [0, 0, prec(0.3), 0]\n",
    "\n",
    "# ρ = (1 .- ϕ) .* ρₛ + ϕ .* ρₗ # bulk density\n",
    "\n",
    "# g = get_g(r, ρ)\n",
    "\n",
    "\n",
    "\n",
    "# ηs_shear = 20:1:21\n",
    "# ηs_bulk = 15:1:20\n",
    "# ks = -9:1:-6\n",
    "\n",
    "# Edot = zeros((length(ηs_shear), length(ηs_bulk)))\n",
    "# Edots = zeros((length(ηs_shear), length(ηs_bulk)))\n",
    "# k_ln = zeros(ComplexF64, (length(ηs_shear), length(ηs_bulk)))\n",
    "# k_lns = zeros(ComplexF64, (length(ηs_shear), length(ηs_bulk)))\n",
    "\n",
    "# # println(size(axes))\n",
    "\n",
    "# colors = [\"C1\", \"C2\", \"C3\", \"C4\"]\n",
    "# cmap = PyPlot.cm.cool\n",
    "# colors = [0.2, 0.4, 0.6, 0.8]\n",
    "# cnt = 0\n",
    "# for j in eachindex(ηs_bulk)\n",
    "#     for i in eachindex(ηs_shear)\n",
    "#         #######################################################################\n",
    "#         # η[3] = 10.0^ηs[i] * (non_dim ? 1.0/(μ0*T) : 1.0)\n",
    "        \n",
    "#         κdc = copy(κd)\n",
    "#         κdc = 1im * ω * κd ./ (1im * ω .+ κd ./ (10.0^ηs_bulk[j]))\n",
    "\n",
    "#         # println(κdc)\n",
    "\n",
    "#         αc = copy(α)\n",
    "#         αc[3] = κdc[3] / κd[3]\n",
    "\n",
    "#         # println(αc)\n",
    "\n",
    "#         # κd[3] = κd\n",
    "#         # κdc[3] = 1.0 / (1 / (κ[3]*(1 - 0.95)) + 1 / (1im * ω * η[3]))\n",
    "        \n",
    "#         # κs = copy(κ)\n",
    "#         # κs[3] = κd[3]/(1-0.95)\n",
    "#         # κd .= 0.05κ\n",
    "\n",
    "#         # k = 10^-j * eta_l \n",
    "#         # k[3] = 10.0^ks[j] * (non_dim ? 1.0/R^2 : 1.0)\n",
    "\n",
    "#         μc =  1im*ω*μ ./ (1im*ω .+ μ ./ (10.0 .^ ηs_shear[i]))\n",
    "\n",
    "\n",
    "#         μc = μ\n",
    "\n",
    "#         y = ComplexF64.(calculate_y(r, ρ, g, μc, κ, ω, ρₗ, κₗ, κd, αc, ηₗ, ϕ, k))\n",
    "\n",
    "        \n",
    "#         κs = copy(κ)\n",
    "#         κs[3] = κdc[3]\n",
    "\n",
    "#         y2 = ComplexF64.(calculate_y(r, ρ, g, μc, κs))\n",
    "\n",
    "#         yR = y[:,end,end]\n",
    "#         yR2 = y2[:,end,end]\n",
    "\n",
    "#         k2 = yR[5] - 1\n",
    "#         k22 = yR2[5] - 1\n",
    "\n",
    "#         k_ln[i,j] = k2\n",
    "#         k_lns[i,j] = k22\n",
    "    \n",
    "#         Edot[i,j] = 21/2 * -imag(k2) * (ω0*R)^5/G * e^2\n",
    "#         Edots[i] = 21/2 * -imag(k22) * (ω0*R)^5/G * e^2\n",
    "\n",
    "       \n",
    "\n",
    "#     end\n",
    "#     cnt += 1\n",
    "# end\n",
    "\n",
    "# # c = axes[2].contourf(10.0 .^ collect(ηs_shear), 10.0 .^ collect(ηs_bulk), Edot' ./ 1e12)\n",
    "# # cbar = plt.colorbar(c)\n",
    "# # # end\n",
    "# axes[2].loglog(10.0 .^ collect(ηs_bulk), abs.(Edot[1,:])/1e12, lw=3.0)\n",
    "\n",
    "# axes[2].set_xscale(\"log\")\n",
    "# axes[2].set_yscale(\"log\")\n",
    "\n",
    "# # axes[2].legend(frameon=false)\n",
    "\n",
    "# # axes[1].set_ylabel(\"Tidal Love Number \\$|k_2|\\$\")\n",
    "# # axes[2].set_ylabel(\"Dissipated Power [TW]\")\n",
    "# # axes[1].set_xlabel(\"Asthenosphere Viscosity [Pa s]\")\n",
    "# # axes[2].set_xlabel(\"Asthenosphere Viscosity [Pa s]\")\n",
    "\n",
    "# # axes[2].axhspan((9.33-1.87)*1e13/1e12, (9.33+1.87)*1e13/1e12, alpha=0.8)\n",
    "# # axes[1].set_ylim([0,1.3])\n",
    "# # fig.savefig(\"edot_-6.pdf\", bbox_inches=\"tight\", transparent=true, dpi=350)\n",
    "# display(fig)\n",
    "# axes[1].clear()\n",
    "# axes[2].clear()\n",
    "# # cbar.remove()"
   ]
  },
  {
   "cell_type": "code",
   "execution_count": 6,
   "metadata": {},
   "outputs": [],
   "source": [
    "using ProfileCanvas"
   ]
  },
  {
   "cell_type": "code",
   "execution_count": 7,
   "metadata": {},
   "outputs": [
    {
     "name": "stdout",
     "output_type": "stream",
     "text": [
      "  71.781 ms (403263 allocations: 126.99 MiB)\n",
      "  72.764 ms (403263 allocations: 126.99 MiB)\n",
      "  72.297 ms (403263 allocations: 126.99 MiB)\n"
     ]
    }
   ],
   "source": [
    "for i in 1:3\n",
    "    @btime y = ComplexF64.(calculate_y(r, ρ, g, μ, κ, ω, ρₗ, κₗ, κd, α, ηₗ, ϕ, k))\n",
    "end"
   ]
  },
  {
   "cell_type": "code",
   "execution_count": 9,
   "metadata": {},
   "outputs": [],
   "source": [
    "ProfileCanvas.@profview y = ComplexF64.(calculate_y(r, ρ, g, μ, κ, ω, ρₗ, κₗ, κd, α, ηₗ, ϕ, k))"
   ]
  }
 ],
 "metadata": {
  "kernelspec": {
   "display_name": "Julia 1.9.0",
   "language": "julia",
   "name": "julia-1.9"
  },
  "language_info": {
   "file_extension": ".jl",
   "mimetype": "application/julia",
   "name": "julia",
   "version": "1.9.0"
  }
 },
 "nbformat": 4,
 "nbformat_minor": 2
}
