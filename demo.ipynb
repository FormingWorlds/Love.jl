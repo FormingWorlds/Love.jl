{
 "cells": [
  {
   "cell_type": "code",
   "execution_count": 1,
   "metadata": {},
   "outputs": [
    {
     "data": {
      "text/plain": [
       "ComplexF64\u001b[90m (alias for \u001b[39m\u001b[90mComplex{Float64}\u001b[39m\u001b[90m)\u001b[39m"
      ]
     },
     "metadata": {},
     "output_type": "display_data"
    }
   ],
   "source": [
    "include(\"TidalLoveNumbers.jl\")\n",
    "using .TidalLoveNumbers\n",
    "using DoubleFloats\n",
    "using PyPlot\n",
    "using Statistics\n",
    "using PyCall\n",
    "\n",
    "@pyimport seaborn as sns\n",
    "@pyimport matplotlib as mpl\n",
    "@pyimport matplotlib.gridspec as gspec\n",
    "\n",
    "PyPlot.isjulia_display[] = false;\n",
    "\n",
    "PyPlot.matplotlib[:rc](\"font\",family=\"Arial\", weight=\"medium\", style=\"normal\", size=12)\n",
    "PyPlot.matplotlib[:rc](\"axes\",titlesize=14.5, labelsize=12, unicode_minus=false)\n",
    "PyPlot.matplotlib[:rc](\"xtick\",labelsize=11.5)\n",
    "PyPlot.matplotlib[:rc](\"ytick\",labelsize=11.5)\n",
    "PyPlot.matplotlib[:rc](\"pdf\",fonttype=42)\n",
    "PyPlot.matplotlib[:rc](\"mathtext\", fontset = \"stix\")\n",
    "\n",
    "mpl.style.use(\"dark_background\")\n",
    "\n",
    "prec = TidalLoveNumbers.prec\n",
    "precc = TidalLoveNumbers.precc"
   ]
  },
  {
   "cell_type": "markdown",
   "metadata": {},
   "source": [
    "# Total Heating Rate"
   ]
  },
  {
   "cell_type": "code",
   "execution_count": 9,
   "metadata": {},
   "outputs": [],
   "source": [
    "# Rotational and orbital parameters\n",
    "ω = 5.31e-5     # Orbital frequency (2π / orbital period)\n",
    "ecc = 0.05      # Orbtial eccentricity\n",
    "\n",
    "# Internal structure:\n",
    "# First element is the innermost layer, last element is the outermost layer\n",
    "ρ = [3300, 3300, 3300, prec(3300)]  # Bulk density of each layer (kg m^-3)\n",
    "r = [0,                             # Radii of each boundary (km)\n",
    "     1,                             # Radius of CMB. If no core, set this to a 1km.\n",
    "     200,                           \n",
    "     230, \n",
    "     251.2] .* 1e3                  # Outer radius of solid surface \n",
    "μ = [60+0im, 60, 60, prec(60)].*1e9 # Shear modulus of each layer (Pa)\n",
    "κ = [100e9, 100e9, 100e9, 100e9]    # Bulk modulus of each layer (set to a large number for incompressible material) (GPa)\n",
    "η = [1e18, 1e18, 1e18, prec(1e18)]  # Shear viscosity of each layer (Pa s)  \n",
    "\n",
    "μc = 1im * μ*ω ./ (1im*ω .+ μ./η)   # Complex shear modulus for a Maxwell material. Change this for different rheologies.\n",
    "\n",
    "R = r[end]\n",
    "\n",
    "r = expand_layers(r)\n",
    "g = get_g(r, ρ);"
   ]
  },
  {
   "cell_type": "code",
   "execution_count": null,
   "metadata": {},
   "outputs": [
    {
     "name": "stdout",
     "output_type": "stream",
     "text": [
      "Total dissipation = 0.09487087447078014 GW\n",
      "Numerical error = 0.3380685920060883 %\n"
     ]
    }
   ],
   "source": [
    "tidal_solution = calculate_y(r, ρ, g, μc, κ)       # Get \"y-functions\"\n",
    "\n",
    "k2 = tidal_solution[5, end, end] - 1               # Get k2 Tidal Love Number \n",
    "\n",
    "Edot = get_bulk_heating(tidal_solution, ω, R, ecc) # Get total power output in watts\n",
    "println(\"Total dissipation = \", Edot/1e9, \" GW\")\n",
    "\n",
    "# Do sanity check/check for deviation from a homogeneous material\n",
    "k2_analytical = 1.5 / (1 + 19/2 * μc[end] / (ρ[end]*g[end,end]*R))\n",
    "println(\"Numerical error = \", abs(k2 - k2_analytical)/abs(k2_analytical)*100, \"%\")"
   ]
  }
 ],
 "metadata": {
  "kernelspec": {
   "display_name": "Julia 1.9.0",
   "language": "julia",
   "name": "julia-1.9"
  },
  "language_info": {
   "file_extension": ".jl",
   "mimetype": "application/julia",
   "name": "julia",
   "version": "1.9.0"
  }
 },
 "nbformat": 4,
 "nbformat_minor": 2
}
